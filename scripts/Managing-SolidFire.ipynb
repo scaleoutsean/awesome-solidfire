{
 "cells": [
  {
   "cell_type": "markdown",
   "metadata": {},
   "source": [
    "[This document on GitHub](https://github.com/scaleoutsean/awesome-solidfire/tree/master/scripts/Managing-Solidfire.ipynb)\n",
    "\n",
    "# Managing SolidFire using PowerShell in .NET Interactive Notebook\n",
    "\n",
    "This simple demo shows how to use PowerShell in .NET Interactive Notebook using cmdlets from [SolidFire PowerShell](https://github.com/solidfire/PowerShell) package against SolidFire v12 (any release between 11 and 12.3 should work). \n",
    "\n",
    "This Notebook was tested twice and seems to work fine, but if you encounter any issues you can fix them on your own.\n",
    "\n",
    "This Notebook is licensed under the MIT License, same as [.NET Interactive](https://github.com/dotnet/interactive).\n",
    "\n",
    "## Prerequisites\n",
    "\n",
    "- Microsoft Code 1.65 or newer\n",
    "- .NET 6.0 SDK or runtime (Windows, Linux, OS X)\n",
    "- Microsoft Code extension: .NET Interactive Notebook"
   ]
  },
  {
   "cell_type": "markdown",
   "metadata": {},
   "source": [
    "## Apply environment variables\n",
    "\n",
    "Go to the bottom of this notebook, edit and then apply environment variables required to connect to SolidFire cluster management IP. S3-related variables can be left alone if you won't try to use that feature."
   ]
  },
  {
   "cell_type": "markdown",
   "metadata": {},
   "source": [
    "## Workflow\n",
    "\n",
    "Install PowerShell module SolidFire.Core:"
   ]
  },
  {
   "cell_type": "code",
   "execution_count": null,
   "metadata": {
    "dotnet_interactive": {
     "language": "pwsh"
    }
   },
   "outputs": [
    {
     "data": {
      "text/plain": []
     },
     "metadata": {},
     "output_type": "display_data"
    }
   ],
   "source": [
    "Install-Module SolidFire.Core -Force"
   ]
  },
  {
   "cell_type": "markdown",
   "metadata": {},
   "source": [
    "Import module and connect to your SolidFire cluster:"
   ]
  },
  {
   "cell_type": "code",
   "execution_count": null,
   "metadata": {
    "dotnet_interactive": {
     "language": "pwsh"
    }
   },
   "outputs": [
    {
     "name": "stdout",
     "output_type": "stream",
     "text": [
      "\n",
      "\u001b[32;1mTarget           : \u001b[0m192.168.1.34\n",
      "\u001b[32;1mName             : \u001b[0mDR\n",
      "\u001b[32;1mPort             : \u001b[0m\n",
      "\u001b[32;1mVersionApiName   : \u001b[0mMagnesium\n",
      "\u001b[32;1mVersionApiNumber : \u001b[0m12.3\n",
      "\u001b[32;1mNode             : \u001b[0mFalse\n",
      "\u001b[32;1mUri              : \u001b[0mhttps://192.168.1.34/json-rpc/12.3\n",
      "\u001b[32;1mRequestCount     : \u001b[0m3\n",
      "\u001b[32;1mCredential       : \u001b[0mSystem.Management.Automation.PSCredential\n",
      "\u001b[32;1mLimits           : \u001b[0m{\"AccountCountMax\" = 20, \"AccountNameLengthMax\" = 64, \"AccountNameLengthMin\" = \n",
      "                   \u001b[32;1m\u001b[0m1, \"BulkVolumeJobsPerNodeMax\" = 10, \"BulkVolumeJobsPerVolumeMax\" = 10, \n",
      "                   \u001b[32;1m\u001b[0m\"CloneJobsPerVolumeMax\" = 1, \"ClusterPairsCountMax\" = 4, \n",
      "                   \u001b[32;1m\u001b[0m\"InitiatorNameLengthMax\" = 224, \"InitiatorCountMax\" = 10, \n",
      "                   \u001b[32;1m\u001b[0m\"InitiatorsPerVolumeAccessGroupCountMax\" = 10, \n",
      "                   \u001b[32;1m\u001b[0m\"IscsiSessionsFromFibreChannelNodesMax\" = 4096, \"QosPolicyCountMax\" = 10, \n",
      "                   \u001b[32;1m\u001b[0m\"SecretLengthMax\" = 16, \"ScheduleNameLengthMax\" = 244, \"SecretLengthMin\" = 12, \n",
      "                   \u001b[32;1m\u001b[0m\"SnapshotNameLengthMax\" = 255, \"SnapshotsPerVolumeMax\" = 10, \n",
      "                   \u001b[32;1m\u001b[0m\"VolumeAccessGroupCountMax\" = 10, \"VolumeAccessGroupLunMax\" = 256, \n",
      "                   \u001b[32;1m\u001b[0m\"VolumeAccessGroupNameLengthMax\" = 64, \"VolumeAccessGroupNameLengthMin\" = 1, \n",
      "                   \u001b[32;1m\u001b[0m\"VolumeAccessGroupsPerInitiatorCountMax\" = 1, \n",
      "                   \u001b[32;1m\u001b[0m\"VolumeAccessGroupsPerVolumeCountMax\" = 4, \"InitiatorAliasLengthMax\" = 224, \n",
      "                   \u001b[32;1m\u001b[0m\"VolumeBurstIOPSMax\" = 200000, \"VolumeBurstIOPSMin\" = 100, \"VolumeCountMax\" = \n",
      "                   \u001b[32;1m\u001b[0m50, \"VolumeMaxIOPSMax\" = 200000, \"VolumeMaxIOPSMin\" = 100, \"VolumeMinIOPSMax\" = \n",
      "                   \u001b[32;1m\u001b[0m15000, \"VolumeMinIOPSMin\" = 50, \"VolumeNameLengthMax\" = 64, \n",
      "                   \u001b[32;1m\u001b[0m\"VolumeNameLengthMin\" = 1, \"VolumeSizeMax\" = 107374182400, \"VolumeSizeMin\" = \n",
      "                   \u001b[32;1m\u001b[0m1073741824, \"VolumesPerAccountCountMax\" = 100, \"VolumesPerGroupSnapshotMax\" = \n",
      "                   \u001b[32;1m\u001b[0m10, \"VolumesPerVolumeAccessGroupCountMax\" = 100}\n",
      "\u001b[32;1mTimeout          : \u001b[0m\n",
      "\u001b[32;1mElement          : \u001b[0mSolidFire.Element.Api.SolidFireElement\n",
      "\n",
      "\n"
     ]
    }
   ],
   "source": [
    "Import-Module SolidFire.Core \n",
    "Connect-SFCluster $MVIP -Username $CLUSTERADMIN -Password $PASSWORD"
   ]
  },
  {
   "cell_type": "markdown",
   "metadata": {},
   "source": [
    "## Get cluster capacity\n",
    "\n",
    "Get cluster capacity and ... do something with it:"
   ]
  },
  {
   "cell_type": "code",
   "execution_count": null,
   "metadata": {
    "dotnet_interactive": {
     "language": "pwsh"
    }
   },
   "outputs": [],
   "source": [
    "$cluster_cap = Get-SFClusterCapacity"
   ]
  },
  {
   "cell_type": "markdown",
   "metadata": {
    "dotnet_interactive": {
     "language": "pwsh"
    }
   },
   "source": [
    "Compute stuff:"
   ]
  },
  {
   "cell_type": "code",
   "execution_count": null,
   "metadata": {
    "dotnet_interactive": {
     "language": "pwsh"
    }
   },
   "outputs": [
    {
     "name": "stdout",
     "output_type": "stream",
     "text": [
      "--------------------------------------------------------------------------------------------------------------\n",
      "SolidFire Cluster: DR\n",
      "\n",
      "Cluster RAW Capacity: 0.06 TB\n",
      "Cluster RAW Capacity Error Stage: 0.04 TB\n",
      "Cluster RAW Capacity Used: 0.00\n",
      "Cluster Error Stage RAW TB Remaining Available: 0.04 TB\n",
      "Cluster 100% Full RAW TB Remaining Available: 0.06 TB\n",
      "\n",
      "Cluster Efficiencies\n",
      "Thin Provisioning Ratio: 25.03\n",
      "Deduplication Ratio: 1.03\n",
      "Compression Ratio: 1.67\n",
      "Cluster Deduplication/Compression Efficiency: 1.71\n",
      "Cluster Deduplication/Compression/Thin Provisioning Efficiency: 42.86\n",
      "\n",
      "Cluster Capacity\n",
      "Cluster Effective Capacity @ 100% Full with Dedup/Comp: 0.06 TB\n",
      "Cluster Effective Capacity @ 100% Full with Dedup/Comp/Thin: 1.38 TB\n",
      "Effective Capacity Remaining until 100% Full with Dedup/Comp: 0.05 TB\n",
      "Effective Capacity Remaining until Error Threshold with Dedup/Comp: 0.03 TB\n",
      "Effective Capacity Remaining until Error Threshold with Dedup/Comp/Thin: 0.87 TB\n",
      "--------------------------------------------------------------------------------------------------------------\n"
     ]
    }
   ],
   "source": [
    "# Adopted and style-modified (formulae are the same) by scaleoutSean from:\n",
    "# https://github.com/kpapreck/test-plan/blob/master/sf-efficiency.ps1\n",
    "\n",
    "#REQUIRED INPUTS\n",
    "$nonZeroBlocks = $cluster_cap | Select-Object nonZeroBlocks -ExpandProperty nonZeroBlocks\n",
    "$zeroBlocks = $cluster_cap | Select-Object zeroBlocks -ExpandProperty zeroBlocks\n",
    "$uniqueBlocks = $cluster_cap | Select-Object uniqueBlocks -ExpandProperty uniqueBlocks\n",
    "$uniqueBlocksUsedSpace = $cluster_cap | Select-Object uniqueBlocksUsedSpace -ExpandProperty uniqueBlocksUsedSpace\n",
    "$snapshotNonZeroBlocks = $cluster_cap | Select-Object snapshotNonZeroBlocks -ExpandProperty snapshotNonZeroBlocks\n",
    "\n",
    "#EFFICIENCY CALCULATIONS\n",
    "[single]$thinProvisioningFactor = (($nonZeroBlocks+$zeroBlocks)/$nonZeroBlocks)\n",
    "[single]$deDuplicationFactor = (($nonZeroBlocks+$snapshotNonZeroBlocks)/$uniqueBlocks)\n",
    "[single]$compressionFactor = (($uniqueBlocks*4096)/($uniqueBlocksUsedSpace*.93))\n",
    "\n",
    "#FOR DEBUGGING\n",
    "#echo $thinProvisioningFactor\n",
    "#echo $deDuplicationFactor\n",
    "#echo $compressionFactor\n",
    "\n",
    "#CALCULATE EFFICIENCY FACTOR FOR COMPRESSION + DEDUPLICATION ONLY\n",
    "$efficiencyFactor = ($deDuplicationFactor*$compressionFactor)\n",
    "\n",
    "#CALCULATE FULL EFFICIENCY FACTOR FOR COMPRESSION + DEDUPLICATION + THIN PROVISIONING\n",
    "$efficiencyFullFactor = ($deDuplicationFactor*$compressionFactor*$thinProvisioningFactor)\n",
    "\n",
    "#GET THE CLUSTER ERROR THRESHOLD BYTES\n",
    "$cluster_full_threshold = Get-SfClusterfullthreshold\n",
    "$errorThreshold = $cluster_full_threshold | Select-Object stage4BlockThresholdBytes -ExpandProperty Stage4BlockThresholdBytes\n",
    "$errorThresholdTB = ($errorThreshold/1000/1000/1000/1000)\n",
    "\n",
    "#GET THE TOTAL USED RAW CAPACITY\n",
    "$sumUsedCapacity = $cluster_full_threshold | Select-Object sumUsedClusterBytes -ExpandProperty sumUsedClusterBytes\n",
    "$sumUsed = ($sumUsedCapacity/1000/1000/1000/1000)\n",
    "\n",
    "#DETERMINE THE RAW SPACE AVAILABLE ON THE CLUSTER UNTIL ERROR THRESHOLD\n",
    "$rawSpaceAvailableTB = (($errorThreshold-$sumUsedCapacity)/(1000*1000*1000*1000))\n",
    "\n",
    "#DETERMINE THE RAW SPACE AVAILABLE ON THE CLUSTER UNTIL 100% FULL\n",
    "$stage5BlockThresholdBytes = $cluster_full_threshold | Select-Object stage5BlockThresholdBytes -ExpandProperty stage5BlockThresholdBytes\n",
    "$rawSpaceAvailable100TB = (($stage5BlockThresholdBytes-$sumUsedCapacity)/(1000*1000*1000*1000))\n",
    "\n",
    "#GET TOTAL CLUSTER CAPCITY\n",
    "$sumTotalClusterBytes = $cluster_full_threshold | Select-Object sumTotalClusterBytes -ExpandProperty sumTotalClusterBytes\n",
    "$sumTotalClusterBytes = ($sumTotalClusterBytes/1000/1000/1000/1000)\n",
    "\n",
    "#GET CLUSTER FULL EFFECTIVE\n",
    "$sumClusterFulldc = ($sumTotalClusterBytes*$efficiencyFactor)/2\n",
    "$sumClusterFulldct = ($sumTotalClusterBytes*$efficiencyFullFactor)/2\n",
    "\n",
    "#GET THE EFFECTIVE CAPACITY REMAINING OF COMPRESSION + DEDUPLICATION UNTIL ERROR THRESHOLD\n",
    "$effectiveCapacityRemaining = ($rawSpaceAvailableTB*$efficiencyFactor)/2\n",
    "\n",
    "#GET THE EFFECTIVE CAPACITY OF COMPRESSION + DEDUPLICATION + THIN PROVISIONING UNTIL ERROR THRESHOLD\n",
    "$effectiveFullCapacityRemaining = ($rawSpaceAvailableTB*$efficiencyFullFactor)/2\n",
    "\n",
    "#GET THE EFFECTIVE CAPACITY REMAINING OF COMPRESSION + DEDUPLICATION UNTIL 100% FULL\n",
    "$effectiveCapacityRemaining100 = ((($stage5BlockThresholdBytes-$sumUsedCapacity)*$efficiencyFactor)/(1000*1000*1000*1000))/2\n",
    "\n",
    "#GET CLUSTER NAME\n",
    "$clusterName = Get-SfClusterInfo | Select-Object name -ExpandProperty name\n",
    "\n",
    "#FORMAT TO 2 DECIMALS\n",
    "$efficiencyFactor = \"{0:N2}\" -f $efficiencyFactor\n",
    "$efficiencyFullFactor = \"{0:N2}\" -f $efficiencyFullFactor\n",
    "$rawSpaceAvailableTB = \"{0:N2}\" -f $rawSpaceAvailableTB\n",
    "$effectiveCapacity = \"{0:N2}\" -f $effectiveCapacity\n",
    "$sumTotalClusterBytes = \"{0:N2}\" -f $sumTotalClusterBytes\n",
    "$effectiveCapacityRemaining = \"{0:N2}\" -f $effectiveCapacityRemaining\n",
    "$sumClusterFulldc = \"{0:N2}\" -f $sumClusterFulldc\n",
    "$sumClusterFulldct = \"{0:N2}\" -f $sumClusterFulldct\n",
    "$effectiveCapacityRemaining100 = \"{0:N2}\" -f $effectiveCapacityRemaining100\n",
    "$sumUsed = \"{0:N2}\" -f $sumUsed\n",
    "$errorThresholdTB = \"{0:N2}\" -f $errorThresholdTB\n",
    "$compressionFactor = \"{0:N2}\" -f $compressionFactor\n",
    "$deDuplicationFactor = \"{0:N2}\" -f $deDuplicationFactor\n",
    "$thinProvisioningFactor = \"{0:N2}\" -f $thinProvisioningFactor\n",
    "$rawSpaceAvailable100TB = \"{0:N2}\" -f $rawSpaceAvailable100TB\n",
    "$effectiveFullCapacityRemaining = \"{0:N2}\" -f $effectiveFullCapacityRemaining\n",
    "\n",
    "Write-Host \"--------------------------------------------------------------------------------------------------------------\"\n",
    "Write-Host \"SolidFire Cluster: $clusterName\"\n",
    "Write-Host \"\"\n",
    "Write-Host \"Cluster RAW Capacity: $sumTotalClusterBytes TB\"\n",
    "Write-Host \"Cluster RAW Capacity Error Stage: $errorThresholdTB TB\"\n",
    "Write-Host \"Cluster RAW Capacity Used: $sumUsed\"\n",
    "Write-Host \"Cluster Error Stage RAW TB Remaining Available: $rawSpaceAvailableTB TB\"\n",
    "Write-Host \"Cluster 100% Full RAW TB Remaining Available: $rawSpaceAvailable100TB TB\"\n",
    "\n",
    "Write-Host \"\"\n",
    "Write-Host \"Cluster Efficiencies\"\n",
    "Write-Host \"Thin Provisioning Ratio: $thinProvisioningFactor\"\n",
    "Write-Host \"Deduplication Ratio: $deDuplicationFactor\"\n",
    "Write-Host \"Compression Ratio: $compressionFactor\"\n",
    "Write-Host \"Cluster Deduplication/Compression Efficiency: $efficiencyFactor\"\n",
    "Write-host \"Cluster Deduplication/Compression/Thin Provisioning Efficiency: $efficiencyFullFactor\"\n",
    "Write-Host \"\"\n",
    "Write-Host \"Cluster Capacity\"\n",
    "Write-Host \"Cluster Effective Capacity @ 100% Full with Dedup/Comp: $sumClusterFulldc TB\"\n",
    "Write-Host \"Cluster Effective Capacity @ 100% Full with Dedup/Comp/Thin: $sumClusterFulldct TB\"\n",
    "Write-Host \"Effective Capacity Remaining until 100% Full with Dedup/Comp: $effectiveCapacityRemaining100 TB\"\n",
    "Write-Host \"Effective Capacity Remaining until Error Threshold with Dedup/Comp: $effectiveCapacityRemaining TB\"\n",
    "Write-Host \"Effective Capacity Remaining until Error Threshold with Dedup/Comp/Thin: $effectiveFullCapacityRemaining TB\"\n",
    "Write-Host \"--------------------------------------------------------------------------------------------------------------\""
   ]
  },
  {
   "cell_type": "markdown",
   "metadata": {},
   "source": [
    "## Backup volume to S3\n",
    "\n",
    "Use built-in backup feature to backup a volume to S3. \n",
    "\n",
    "Get volume information first."
   ]
  },
  {
   "cell_type": "code",
   "execution_count": null,
   "metadata": {
    "dotnet_interactive": {
     "language": "pwsh"
    }
   },
   "outputs": [],
   "source": [
    "$vol_data     = Get-SFVolume -VolumeID $VOLID\n",
    "$cluster_info = Get-SFClusterInfo"
   ]
  },
  {
   "cell_type": "markdown",
   "metadata": {},
   "source": [
    "Use obtained data and environment variables to spit out some info and backup volume to S3:"
   ]
  },
  {
   "cell_type": "code",
   "execution_count": null,
   "metadata": {
    "dotnet_interactive": {
     "language": "pwsh"
    }
   },
   "outputs": [
    {
     "name": "stdout",
     "output_type": "stream",
     "text": [
      "Logical volume size in 4 KiB blocks: 524288\n",
      "Initiating backup to: DR-46z9/etcd3-4\n",
      "= Backup job handle: 36\n"
     ]
    }
   ],
   "source": [
    "$PREFIX     = $cluster_info.Name + \"-\" + $cluster_info.UniqueID + \"/\" + $vol_data.Name + \"-\" + $vol_data.VolumeID\n",
    "Write-Host \"Logical volume size in 4 KiB blocks:\" ($vol_data.TotalSize/$vol_data.BlockSize)\n",
    "Write-Host \"Initiating backup to:\" $PREFIX\n",
    "$backup_job = Invoke-SFApi -Method StartBulkVolumeRead `\n",
    "  -Params @{ \"volumeID\"= \"$VOLID\"; \"format\" = \"native\"; `\n",
    "  \"script\" = \"bv_internal.py\"; \"scriptParameters\" = `\n",
    "  @{ \"write\" = @{ \"awsAccessKeyID\" = $S3_ACCESS_KEY; `\n",
    "  \"awsSecretAccessKey\" = $S3_SECRET_KEY; `\n",
    "  \"bucket\"= $S3_BUCKET; `\n",
    "  \"prefix\"= $PREFIX; `\n",
    "  \"endpoint\"= \"s3\"; \"hostname\"= $S3_ENDPOINT }}} \n",
    "Write-Host  = \"Backup job handle:\" $backup_job.asyncHandle"
   ]
  },
  {
   "cell_type": "markdown",
   "metadata": {},
   "source": [
    "Check progress of async job handle from backup job (if job was successfully submitted and if you execute this step while backup job is still running):"
   ]
  },
  {
   "cell_type": "code",
   "execution_count": null,
   "metadata": {
    "dotnet_interactive": {
     "language": "pwsh"
    }
   },
   "outputs": [
    {
     "name": "stdout",
     "output_type": "stream",
     "text": [
      "\n",
      "\u001b[32;1mName                           Value\u001b[0m\n",
      "\u001b[32;1m----                           -----\u001b[0m\n",
      "lastUpdateTime                 3/29/2022 8:44:08 AM\n",
      "createTime                     3/29/2022 8:44:05 AM\n",
      "status                         running\n",
      "details                        {bvID, message, volumeID}\n",
      "resultType                     BulkVolume\n",
      "\n"
     ]
    }
   ],
   "source": [
    "Get-SFASyncResult -ASyncResultID $backup_job.asyncHandle"
   ]
  },
  {
   "cell_type": "markdown",
   "metadata": {},
   "source": [
    "### Setup common variables\n",
    "\n",
    "These variables are used throughout the notebook so set them at the top so they can be used everywhere.\n",
    "\n",
    "> NOTE: This also means that all you have to do is change the vaules here and the Notebook will just work still (so long as the values are correct)"
   ]
  },
  {
   "cell_type": "code",
   "execution_count": null,
   "metadata": {
    "dotnet_interactive": {
     "language": "pwsh"
    }
   },
   "outputs": [],
   "source": [
    "# SolidFire credentials\n",
    "$CLUSTERADMIN = 'admin'\n",
    "$PASSWORD     = 'dummy-pass'\n",
    "\n",
    "# S3 credentials\n",
    "$S3_ACCESS_KEY= ''\n",
    "$S3_SECRET_KEY= ''\n",
    "\n",
    "# SolidFire resource details\n",
    "$MVIP         = '192.168.1.34'\n",
    "$VOLID        = 4\n",
    "# S3 endpoint\n",
    "$S3_ENDPOINT  = 's3.com.org'\n",
    "$S3_BUCKET    = 'solidfire-native-backup'\n",
    "\n"
   ]
  }
 ],
 "metadata": {
  "interpreter": {
   "hash": "916dbcbb3f70747c44a77c7bcd40155683ae19c65e1c03b4aa3499c5328201f1"
  },
  "kernelspec": {
   "display_name": ".NET (C#)",
   "language": "C#",
   "name": ".net-csharp"
  },
  "language_info": {
   "file_extension": ".cs",
   "mimetype": "text/x-csharp",
   "name": "C#",
   "pygments_lexer": "csharp",
   "version": "9.0"
  }
 },
 "nbformat": 4,
 "nbformat_minor": 4
}
